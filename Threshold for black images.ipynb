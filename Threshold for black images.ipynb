{
 "cells": [
  {
   "cell_type": "code",
   "execution_count": 1,
   "id": "d5589341",
   "metadata": {},
   "outputs": [],
   "source": [
    "import skimage\n",
    "import matplotlib.pyplot as plt\n",
    "import pandas as pd\n",
    "from skimage import io\n",
    "import os\n",
    "import glob\n",
    "import cv2 as cv\n",
    "import numpy as np\n",
    "from scipy.ndimage.filters import median_filter\n",
    "from skimage import exposure\n",
    "from skimage import color\n",
    "from skimage import util"
   ]
  },
  {
   "cell_type": "code",
   "execution_count": 5,
   "id": "6bc87529",
   "metadata": {},
   "outputs": [],
   "source": [
    "img_dir = \"C:/Users/Davran/0_Deep_Learning_Project/Implant Inspection/train/Xia_black\" # Enter Directory of all images  \n",
    "data_path = os.path.join(img_dir,'*g')\n",
    "data_path_save = \"C:/Users/Davran/0_Deep_Learning_Project/Implant Inspection/train_new/Xia\"\n",
    "files = glob.glob(data_path)\n",
    "x=1\n",
    "for f1 in files:\n",
    "    imp = cv.imread(f1, 1)\n",
    "    inverted_image = util.invert(imp)\n",
    "    grey_image = cv.cvtColor(inverted_image, cv.COLOR_BGR2GRAY)\n",
    "    grey_image_mf = median_filter(grey_image, 1)\n",
    "    gamma_image = exposure.adjust_gamma(grey_image_mf, 2)\n",
    "    ret0,thresh0 = cv.threshold(gamma_image, 0, 255, cv.THRESH_OTSU+cv.THRESH_BINARY)\n",
    "    ret1,thresh1 = cv.threshold(gamma_image, ret0,255,cv.THRESH_TOZERO)\n",
    "    name = 'Xia_black'+str(x)\n",
    "    io.imsave(os.path.join(data_path_save, name  + \".jpg\"), thresh1)\n",
    "    x=x+1"
   ]
  },
  {
   "cell_type": "code",
   "execution_count": null,
   "id": "0bf9bb78",
   "metadata": {},
   "outputs": [],
   "source": []
  }
 ],
 "metadata": {
  "kernelspec": {
   "display_name": "Python 3",
   "language": "python",
   "name": "python3"
  },
  "language_info": {
   "codemirror_mode": {
    "name": "ipython",
    "version": 3
   },
   "file_extension": ".py",
   "mimetype": "text/x-python",
   "name": "python",
   "nbconvert_exporter": "python",
   "pygments_lexer": "ipython3",
   "version": "3.8.8"
  }
 },
 "nbformat": 4,
 "nbformat_minor": 5
}
